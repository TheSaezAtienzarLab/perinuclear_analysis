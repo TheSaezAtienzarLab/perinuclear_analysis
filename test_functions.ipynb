{
 "cells": [
  {
   "cell_type": "code",
   "execution_count": 6,
   "id": "b9aec57b",
   "metadata": {},
   "outputs": [],
   "source": [
    "from pathlib import Path\n",
    "from perinuclear_analysis.image_loader import ImageLoader\n",
    "from perinuclear_analysis.mip_creator import MIPCreator\n"
   ]
  },
  {
   "cell_type": "code",
   "execution_count": 7,
   "id": "6a6ae077",
   "metadata": {},
   "outputs": [
    {
     "data": {
      "text/plain": [
       "PosixPath('/Users/gabrielduarte/Documents/GitHub/SaezAtienzar/perinuclear_analysis/data/ALIX/nd2/anti_ALIX_15_min_1_mip.tiff')"
      ]
     },
     "execution_count": 7,
     "metadata": {},
     "output_type": "execute_result"
    }
   ],
   "source": [
    "nd2_path = Path(\"/Users/gabrielduarte/Documents/GitHub/SaezAtienzar/perinuclear_analysis/data/ALIX/nd2/anti_ALIX_15_min_1.nd2\")\n",
    "mip_out = nd2_path.with_name(nd2_path.stem + \"_mip.tiff\")\n",
    "mip_out"
   ]
  },
  {
   "cell_type": "code",
   "execution_count": 9,
   "id": "9fddd525",
   "metadata": {},
   "outputs": [
    {
     "name": "stderr",
     "output_type": "stream",
     "text": [
      "2025-08-29 15:23:20,820 - perinuclear_analysis.image_loader - INFO - Converting anti_ALIX_15_min_1.nd2 to TIFF format for pipeline compatibility\n",
      "2025-08-29 15:23:20,822 - perinuclear_analysis.format_converter - INFO - Converting /Users/gabrielduarte/Documents/GitHub/SaezAtienzar/perinuclear_analysis/data/ALIX/nd2/anti_ALIX_15_min_1.nd2 to /Users/gabrielduarte/Documents/GitHub/SaezAtienzar/perinuclear_analysis/data/ALIX/nd2/anti_ALIX_15_min_1.tiff\n",
      "/Users/gabrielduarte/miniforge3/envs/bioimage-coloc/lib/python3.12/site-packages/tifffile/tifffile.py:2451: UserWarning: <tifffile.TiffWriter 'anti_ALIX_15_min_1.tiff'> not writing description to ImageJ file\n",
      "  warnings.warn(\n",
      "2025-08-29 15:23:29,824 - perinuclear_analysis.format_converter - INFO - Metadata saved to /Users/gabrielduarte/Documents/GitHub/SaezAtienzar/perinuclear_analysis/data/ALIX/nd2/anti_ALIX_15_min_1.json\n",
      "2025-08-29 15:23:29,824 - perinuclear_analysis.format_converter - INFO - Successfully converted to /Users/gabrielduarte/Documents/GitHub/SaezAtienzar/perinuclear_analysis/data/ALIX/nd2/anti_ALIX_15_min_1.tiff\n",
      "2025-08-29 15:23:29,843 - perinuclear_analysis.image_loader - INFO - Loaded metadata from converted TIFF: pixel_size=0.108333333333333μm\n",
      "2025-08-29 15:23:33,318 - perinuclear_analysis.image_loader - INFO - Successfully loaded TIFF image with shape: (23, 1800, 1800, 4)\n"
     ]
    },
    {
     "data": {
      "text/plain": [
       "(23, 1800, 1800, 4)"
      ]
     },
     "execution_count": 9,
     "metadata": {},
     "output_type": "execute_result"
    }
   ],
   "source": [
    "loader = ImageLoader()\n",
    "zstack = loader.load_image(nd2_path)\n",
    "zstack.shape"
   ]
  },
  {
   "cell_type": "code",
   "execution_count": 10,
   "id": "49e27924",
   "metadata": {},
   "outputs": [
    {
     "data": {
      "text/plain": [
       "dtype('uint16')"
      ]
     },
     "execution_count": 10,
     "metadata": {},
     "output_type": "execute_result"
    }
   ],
   "source": [
    "zstack.dtype"
   ]
  },
  {
   "cell_type": "code",
   "execution_count": 12,
   "id": "36ea15e1",
   "metadata": {},
   "outputs": [
    {
     "name": "stderr",
     "output_type": "stream",
     "text": [
      "2025-08-29 15:29:01,749 - perinuclear_analysis.mip_creator - INFO - Creating max projection from shape (23, 1800, 1800, 4)\n",
      "2025-08-29 15:29:04,732 - perinuclear_analysis.mip_creator - INFO - Created max projection with shape (1800, 1800, 4)\n",
      "2025-08-29 15:29:05,120 - perinuclear_analysis.mip_creator - INFO - Saved MIP to /Users/gabrielduarte/Documents/GitHub/SaezAtienzar/perinuclear_analysis/data/ALIX/nd2/anti_ALIX_15_min_1_mip.tiff (uint16, shape=(1800, 1800, 4))\n"
     ]
    },
    {
     "data": {
      "text/plain": [
       "PosixPath('/Users/gabrielduarte/Documents/GitHub/SaezAtienzar/perinuclear_analysis/data/ALIX/nd2/anti_ALIX_15_min_1_mip.tiff')"
      ]
     },
     "execution_count": 12,
     "metadata": {},
     "output_type": "execute_result"
    }
   ],
   "source": [
    "mip_creator = MIPCreator()\n",
    "mip = mip_creator.create_mip(zstack, method=\"max\")\n",
    "\n",
    "mip_creator.save_mip_tiff(\n",
    "    mip,\n",
    "    mip_out,\n",
    "    dtype=\"uint16\",               # or 'auto'\n",
    "    normalize=True,\n",
    "    compress=6,\n",
    "    metadata={\"source\": str(nd2_path), \"projection\": \"max\"},\n",
    "    overwrite=True,\n",
    ")\n",
    "\n",
    "mip_out"
   ]
  },
  {
   "cell_type": "code",
   "execution_count": 16,
   "id": "4c74bca8",
   "metadata": {},
   "outputs": [
    {
     "name": "stdout",
     "output_type": "stream",
     "text": [
      "File: anti_ALIX_15_min_1_mip.tiff\n",
      "Size (MB): 4.97\n",
      "Pages: 1800\n",
      "Series shape: (1800, 1800, 4) dtype: uint16 axes: QYX\n",
      "Photometric: 1\n",
      "Compression: 32946\n",
      "Resolution tags: TiffTag 282 XResolution @130 RATIONAL @368 = (1, 1) TiffTag 283 YResolution @142 RATIONAL @376 = (1, 1) TiffTag 296 ResolutionUnit @154 SHORT @162 = NONE\n",
      "ImageJ metadata: {}\n",
      "Converted metadata keys: ['source', 'projection', 'shape']\n",
      "Pixel size (um): None\n",
      "Channels: None\n",
      "Array: (1800, 1800, 4) uint16 min/max: 0.0 65535.0\n"
     ]
    }
   ],
   "source": [
    "from pathlib import Path\n",
    "import tifffile, json, numpy as np\n",
    "\n",
    "mip_path = Path(\"/Users/gabrielduarte/Documents/GitHub/SaezAtienzar/perinuclear_analysis/data/ALIX/nd2/anti_ALIX_15_min_1_mip.tiff\")\n",
    "\n",
    "print(f\"File: {mip_path.name}\")\n",
    "print(f\"Size (MB): {mip_path.stat().st_size / 1e6:.2f}\")\n",
    "\n",
    "with tifffile.TiffFile(mip_path) as tif:\n",
    "    s = tif.series[0]\n",
    "    p0 = tif.pages[0]\n",
    "    print(\"Pages:\", len(tif.pages))\n",
    "    print(\"Series shape:\", s.shape, \"dtype:\", s.dtype, \"axes:\", s.axes)\n",
    "    print(\"Photometric:\", p0.photometric)\n",
    "    print(\"Compression:\", p0.compression)\n",
    "    print(\"Resolution tags:\", p0.tags.get(\"XResolution\"), p0.tags.get(\"YResolution\"), p0.tags.get(\"ResolutionUnit\"))\n",
    "    print(\"ImageJ metadata:\", tif.imagej_metadata or {})\n",
    "    desc = p0.description\n",
    "    if desc and desc.strip().startswith(\"{\"):\n",
    "        md = json.loads(desc)\n",
    "        print(\"Converted metadata keys:\", list(md.keys())[:10])\n",
    "        print(\"Pixel size (um):\", md.get(\"pixel_size_um\"))\n",
    "        print(\"Channels:\", md.get(\"dimensions\", {}).get(\"channels\"))\n",
    "\n",
    "arr = tifffile.imread(str(mip_path))\n",
    "print(\"Array:\", arr.shape, arr.dtype, \"min/max:\", float(arr.min()), float(arr.max()))"
   ]
  }
 ],
 "metadata": {
  "kernelspec": {
   "display_name": "bioimage-coloc",
   "language": "python",
   "name": "python3"
  },
  "language_info": {
   "codemirror_mode": {
    "name": "ipython",
    "version": 3
   },
   "file_extension": ".py",
   "mimetype": "text/x-python",
   "name": "python",
   "nbconvert_exporter": "python",
   "pygments_lexer": "ipython3",
   "version": "3.12.11"
  }
 },
 "nbformat": 4,
 "nbformat_minor": 5
}
