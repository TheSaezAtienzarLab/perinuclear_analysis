{
 "cells": [
  {
   "cell_type": "code",
   "execution_count": 1,
   "id": "15786f11",
   "metadata": {},
   "outputs": [
    {
     "name": "stderr",
     "output_type": "stream",
     "text": [
      "/Users/gabrielduarte/Documents/GitHub/SaezAtienzar/perinuclear_analysis/perinuclear_analysis/__init__.py:41: UserWarning: MIPPreprocessor not available yet\n",
      "  warnings.warn(\"MIPPreprocessor not available yet\")\n",
      "/Users/gabrielduarte/Documents/GitHub/SaezAtienzar/perinuclear_analysis/perinuclear_analysis/__init__.py:61: UserWarning: Phase 4 dependencies not installed: No module named 'perinuclear_analysis.ring_analysis'\n",
      "Install with: pip install .[phase4]\n",
      "  warnings.warn(\n",
      "/Users/gabrielduarte/Documents/GitHub/SaezAtienzar/perinuclear_analysis/perinuclear_analysis/__init__.py:74: UserWarning: Phase 5 dependencies not installed: No module named 'perinuclear_analysis.signal_quantification'\n",
      "Install with: pip install .[phase5]\n",
      "  warnings.warn(\n"
     ]
    }
   ],
   "source": [
    "import numpy as np\n",
    "import matplotlib.pyplot as plt\n",
    "from pathlib import Path\n",
    "import logging\n",
    "import sys\n",
    "\n",
    "project_root = Path(\"/Users/gabrielduarte/Documents/GitHub/SaezAtienzar/perinuclear_analysis\")\n",
    "sys.path.insert(0, str(project_root))\n",
    "  \n",
    "from perinuclear_analysis.core import BackgroundSubtractionConfig, PreprocessingConfig\n",
    "from perinuclear_analysis.imaging_preprocessing.background_subtraction import BackgroundSubtractor\n",
    "from perinuclear_analysis.data_processing import ImageLoader\n",
    "\n",
    "# Configure logging\n",
    "logging.basicConfig(level=logging.INFO)\n",
    "logger = logging.getLogger(__name__)\n"
   ]
  },
  {
   "cell_type": "code",
   "execution_count": 2,
   "id": "4ad7a011",
   "metadata": {},
   "outputs": [
    {
     "name": "stderr",
     "output_type": "stream",
     "text": [
      "INFO:perinuclear_analysis.data_processing.image_loader:Loaded metadata from converted TIFF: pixel_size=0.108333333333333μm\n",
      "INFO:perinuclear_analysis.data_processing.image_loader:Successfully loaded TIFF image with shape: (23, 1800, 1800, 4)\n"
     ]
    }
   ],
   "source": [
    "image_path = Path(\"/Users/gabrielduarte/Documents/GitHub/SaezAtienzar/perinuclear_analysis/data/ALIX/nd2/anti_ALIX_15_min_1.ome.tiff\")\n",
    "\n",
    "image_loader = ImageLoader()\n",
    "loaded_data = image_loader.load_image(image_path)"
   ]
  },
  {
   "cell_type": "code",
   "execution_count": null,
   "id": "d6cbe0a1",
   "metadata": {},
   "outputs": [
    {
     "name": "stderr",
     "output_type": "stream",
     "text": [
      "INFO:perinuclear_analysis.data_processing.image_loader:Renamed channels to: ['LAMP1', 'Phalloidin', 'ALIX', 'DAPI']\n"
     ]
    }
   ],
   "source": [
    "len(loaded_data.shape)\n",
    "\n",
    "# channel_names = image_loader.get_channel_names()\n",
    "\n",
    "image_loader.rename_channels([\"LAMP1\", \"Phalloidin\", \"ALIX\", \"DAPI\"])\n",
    "\n",
    "\n",
    "\n"
   ]
  },
  {
   "cell_type": "code",
   "execution_count": 6,
   "id": "ec64d2e9",
   "metadata": {},
   "outputs": [
    {
     "data": {
      "text/plain": [
       "['LAMP1', 'Phalloidin', 'ALIX', 'DAPI']"
      ]
     },
     "execution_count": 6,
     "metadata": {},
     "output_type": "execute_result"
    }
   ],
   "source": [
    "channel_names = image_loader.get_channel_names()\n",
    "\n",
    "channel_names"
   ]
  },
  {
   "cell_type": "code",
   "execution_count": 9,
   "id": "aef70004",
   "metadata": {},
   "outputs": [
    {
     "name": "stdout",
     "output_type": "stream",
     "text": [
      "Recommendations for LAMP1:\n",
      "  Method: rolling_ball\n",
      "  Radius: 30\n",
      "  Description: LAMP1 punctate structures - medium radius for vesicle preservation\n",
      "\n",
      "Recommendations for Phalloidin:\n",
      "  Method: rolling_ball\n",
      "  Radius: 20\n",
      "  Description: Phalloidin/actin - smaller radius to preserve filament structures\n",
      "\n",
      "Recommendations for ALIX:\n",
      "  Method: rolling_ball\n",
      "  Radius: 30\n",
      "  Description: Protein marker - standard radius for punctate/diffuse patterns\n",
      "\n",
      "Recommendations for DAPI:\n",
      "  Method: rolling_ball\n",
      "  Radius: 50\n",
      "  Description: DAPI/nuclear staining - rolling ball with large radius for nuclear regions\n",
      "\n"
     ]
    }
   ],
   "source": [
    "bg_subtractor = BackgroundSubtractor()\n",
    "\n",
    "pixel_size = image_loader.get_pixel_size()\n",
    "pixel_size\n",
    "\n",
    "results = {}\n",
    "\n",
    "for channel_name in channel_names:\n",
    "    recommendations = bg_subtractor.get_recommended_parameters(channel_name)\n",
    "    print(f\"Recommendations for {channel_name}:\")\n",
    "    print(f\"  Method: {recommendations['method']}\")\n",
    "    print(f\"  Radius: {recommendations['radius']}\")\n",
    "    print(f\"  Description: {recommendations['description']}\")\n",
    "    print()"
   ]
  },
  {
   "cell_type": "code",
   "execution_count": null,
   "id": "793721d8",
   "metadata": {},
   "outputs": [
    {
     "name": "stderr",
     "output_type": "stream",
     "text": [
      "INFO:perinuclear_analysis.imaging_preprocessing.background_subtraction.background_subtractor:Processing channel: LAMP1\n",
      "INFO:perinuclear_analysis.imaging_preprocessing.background_subtraction.background_subtractor:Applying rolling_ball background subtraction to 3D image (23, 1800, 1800)\n",
      "INFO:perinuclear_analysis.imaging_preprocessing.background_subtraction.background_subtractor:Calculated chunk size: 23 slices (18.5 MB per slice)\n"
     ]
    }
   ],
   "source": [
    "# Prepare images dictionary for batch processing\n",
    "images_dict = {}\n",
    "for i, channel_name in enumerate(channel_names):\n",
    "    images_dict[channel_name] = loaded_data[:, :, :, i]\n",
    "\n",
    "# Process all channels at once\n",
    "batch_results = bg_subtractor.batch_process(\n",
    "    images=images_dict,\n",
    "    pixel_size=pixel_size\n",
    ")\n",
    "\n",
    "# Access results\n",
    "for channel_name, (corrected_img, metadata) in batch_results.items():\n",
    "    print(f\"{channel_name}: {corrected_img.shape}, method={metadata['method']}\")\n"
   ]
  },
  {
   "cell_type": "code",
   "execution_count": null,
   "id": "6335fa30",
   "metadata": {},
   "outputs": [],
   "source": []
  }
 ],
 "metadata": {
  "kernelspec": {
   "display_name": "bioimage-coloc",
   "language": "python",
   "name": "python3"
  },
  "language_info": {
   "codemirror_mode": {
    "name": "ipython",
    "version": 3
   },
   "file_extension": ".py",
   "mimetype": "text/x-python",
   "name": "python",
   "nbconvert_exporter": "python",
   "pygments_lexer": "ipython3",
   "version": "3.12.11"
  }
 },
 "nbformat": 4,
 "nbformat_minor": 5
}
